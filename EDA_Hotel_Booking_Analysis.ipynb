{
  "nbformat": 4,
  "nbformat_minor": 0,
  "metadata": {
    "colab": {
      "private_outputs": true,
      "provenance": [],
      "collapsed_sections": [
        "vncDsAP0Gaoa",
        "FJNUwmbgGyua",
        "w6K7xa23Elo4",
        "yQaldy8SH6Dl",
        "PH-0ReGfmX4f",
        "mDgbUHAGgjLW",
        "O_i_v8NEhb9l",
        "HhfV-JJviCcP",
        "Y3lxredqlCYt",
        "3RnN4peoiCZX",
        "x71ZqKXriCWQ",
        "7hBIi_osiCS2",
        "JlHwYmJAmNHm",
        "35m5QtbWiB9F",
        "PoPl-ycgm1ru",
        "H0kj-8xxnORC",
        "nA9Y7ga8ng1Z",
        "PBTbrJXOngz2",
        "u3PMJOP6ngxN",
        "dauF4eBmngu3",
        "bKJF3rekwFvQ",
        "MSa1f5Uengrz",
        "GF8Ens_Soomf",
        "0wOQAZs5pc--",
        "K5QZ13OEpz2H",
        "lQ7QKXXCp7Bj",
        "448CDAPjqfQr",
        "KSlN3yHqYklG",
        "t6dVpIINYklI",
        "ijmpgYnKYklI",
        "-JiQyfWJYklI",
        "EM7whBJCYoAo",
        "fge-S5ZAYoAp",
        "85gYPyotYoAp",
        "RoGjAbkUYoAp",
        "4Of9eVA-YrdM",
        "iky9q4vBYrdO",
        "F6T5p64dYrdO",
        "y-Ehk30pYrdP",
        "bamQiAODYuh1",
        "QHF8YVU7Yuh3",
        "GwzvFGzlYuh3",
        "qYpmQ266Yuh3",
        "OH-pJp9IphqM",
        "bbFf2-_FphqN",
        "_ouA3fa0phqN",
        "Seke61FWphqN",
        "PIIx-8_IphqN",
        "t27r6nlMphqO",
        "r2jJGEOYphqO",
        "b0JNsNcRphqO",
        "BZR9WyysphqO",
        "jj7wYXLtphqO",
        "eZrbJ2SmphqO",
        "rFu4xreNphqO",
        "YJ55k-q6phqO",
        "gCFgpxoyphqP",
        "OVtJsKN_phqQ",
        "lssrdh5qphqQ",
        "U2RJ9gkRphqQ",
        "1M8mcRywphqQ",
        "tgIPom80phqQ",
        "JMzcOPDDphqR",
        "x-EpHcCOp1ci",
        "X_VqEhTip1ck",
        "8zGJKyg5p1ck",
        "PVzmfK_Ep1ck",
        "n3dbpmDWp1ck",
        "ylSl6qgtp1ck",
        "ZWILFDl5p1ck",
        "M7G43BXep1ck",
        "Ag9LCva-p1cl",
        "E6MkPsBcp1cl",
        "2cELzS2fp1cl",
        "3MPXvC8up1cl",
        "NC_X3p0fY2L0",
        "UV0SzAkaZNRQ",
        "YPEH6qLeZNRQ",
        "q29F0dvdveiT",
        "EXh0U9oCveiU",
        "22aHeOlLveiV",
        "JcMwzZxoAimU",
        "8G2x9gOozGDZ",
        "gCX9965dhzqZ",
        "gIfDvo9L0UH2"
      ],
      "include_colab_link": true
    },
    "kernelspec": {
      "name": "python3",
      "display_name": "Python 3"
    },
    "language_info": {
      "name": "python"
    }
  },
  "cells": [
    {
      "cell_type": "markdown",
      "metadata": {
        "id": "view-in-github",
        "colab_type": "text"
      },
      "source": [
        "<a href=\"https://colab.research.google.com/github/mohdraavi/Hotel-Booking-Analysis/blob/main/EDA_Hotel_Booking_Analysis.ipynb\" target=\"_parent\"><img src=\"https://colab.research.google.com/assets/colab-badge.svg\" alt=\"Open In Colab\"/></a>"
      ]
    },
    {
      "cell_type": "markdown",
      "source": [
        "# **Project Name**    - Capstone Project-1 EDA Hotel Booking Analysis.\n",
        "\n"
      ],
      "metadata": {
        "id": "vncDsAP0Gaoa"
      }
    },
    {
      "cell_type": "markdown",
      "source": [
        "##### **Project Type**    - EDA\n",
        "##### **Contribution**    - Individual\n",
        "##### **Project By Mohd Ravi -**\n"
      ],
      "metadata": {
        "id": "beRrZCGUAJYm"
      }
    },
    {
      "cell_type": "markdown",
      "source": [
        "# **Project Summary -**"
      ],
      "metadata": {
        "id": "FJNUwmbgGyua"
      }
    },
    {
      "cell_type": "markdown",
      "source": [
        "Write the summary here within 500-600 words."
      ],
      "metadata": {
        "id": "F6v_1wHtG2nS"
      }
    },
    {
      "cell_type": "markdown",
      "source": [
        "# **GitHub Link -**"
      ],
      "metadata": {
        "id": "w6K7xa23Elo4"
      }
    },
    {
      "cell_type": "markdown",
      "source": [
        "https://github.com/mohdraavi/Hotel-Booking-Analysis"
      ],
      "metadata": {
        "id": "h1o69JH3Eqqn"
      }
    },
    {
      "cell_type": "markdown",
      "source": [
        "# **Problem Statement**\n"
      ],
      "metadata": {
        "id": "yQaldy8SH6Dl"
      }
    },
    {
      "cell_type": "markdown",
      "source": [
        "Have you ever wondered when the best time of year to book a hotel room is? Or the optimal length of stay in order to get the best daily rate? What if you wanted to predict whether or not a hotel was likely to receive a disproportionately high number of special requests? This hotel booking dataset can help you explore those questions! This data set contains booking information for a city hotel and a resort hotel, and includes information such as when the booking was made, length of stay, the number of adults, children, and/or babies, and the number of available parking spaces, among other things. All personally identifying information has been removed from the data."
      ],
      "metadata": {
        "id": "DpeJGUA3kjGy"
      }
    },
    {
      "cell_type": "markdown",
      "source": [
        "#### **Define Your Business Objective?**"
      ],
      "metadata": {
        "id": "PH-0ReGfmX4f"
      }
    },
    {
      "cell_type": "markdown",
      "source": [
        " Explore and analyse the data to discover important factors that govern the bookings"
      ],
      "metadata": {
        "id": "PhDvGCAqmjP1"
      }
    },
    {
      "cell_type": "markdown",
      "source": [
        "### Import Libraries"
      ],
      "metadata": {
        "id": "Y3lxredqlCYt"
      }
    },
    {
      "cell_type": "code",
      "source": [
        "#Mount the Drive\n",
        "from google.colab import drive\n",
        "drive.mount('/content/drive')"
      ],
      "metadata": {
        "id": "4rcqO0IGgq59"
      },
      "execution_count": null,
      "outputs": []
    },
    {
      "cell_type": "code",
      "source": [
        "# Import Libraries\n",
        "import numpy as np                          #Numerical Computation\n",
        "import pandas as pd                         #Data Manipulation\n",
        "import matplotlib.pyplot as plt             #visulize with plots\n",
        "%matplotlib inline \n",
        "import seaborn as  sns                      #Data Visulization\n"
      ],
      "metadata": {
        "id": "M8Vqi-pPk-HR"
      },
      "execution_count": null,
      "outputs": []
    },
    {
      "cell_type": "markdown",
      "source": [
        "### Dataset Loading"
      ],
      "metadata": {
        "id": "3RnN4peoiCZX"
      }
    },
    {
      "cell_type": "code",
      "source": [
        "# Load Dataset\n",
        "df = pd.read_csv('/content/drive/MyDrive/Hotel Bookings.csv')"
      ],
      "metadata": {
        "id": "4CkvbW_SlZ_R"
      },
      "execution_count": null,
      "outputs": []
    },
    {
      "cell_type": "markdown",
      "source": [
        "### Dataset First View"
      ],
      "metadata": {
        "id": "x71ZqKXriCWQ"
      }
    },
    {
      "cell_type": "code",
      "source": [
        "# Dataset First Look\n",
        "#initial five rows \n",
        "df.head()"
      ],
      "metadata": {
        "id": "LWNFOSvLl09H"
      },
      "execution_count": null,
      "outputs": []
    },
    {
      "cell_type": "code",
      "source": [
        "#last five rows \n",
        "df.tail()"
      ],
      "metadata": {
        "id": "1kjntEVekp9P"
      },
      "execution_count": null,
      "outputs": []
    },
    {
      "cell_type": "markdown",
      "source": [
        "### Dataset Rows & Columns count"
      ],
      "metadata": {
        "id": "7hBIi_osiCS2"
      }
    },
    {
      "cell_type": "code",
      "source": [
        "# Dataset Rows & Columns count\n",
        "df.shape"
      ],
      "metadata": {
        "id": "Kllu7SJgmLij"
      },
      "execution_count": null,
      "outputs": []
    },
    {
      "cell_type": "markdown",
      "source": [
        "there are 119390 rows and 32 columns"
      ],
      "metadata": {
        "id": "R5j3WdD9lGRt"
      }
    },
    {
      "cell_type": "markdown",
      "source": [
        "### Dataset Information"
      ],
      "metadata": {
        "id": "JlHwYmJAmNHm"
      }
    },
    {
      "cell_type": "code",
      "source": [
        "# Dataset Info\n",
        "df.info()"
      ],
      "metadata": {
        "id": "e9hRXRi6meOf"
      },
      "execution_count": null,
      "outputs": []
    },
    {
      "cell_type": "markdown",
      "source": [],
      "metadata": {
        "id": "XOqBKfQJWp4A"
      }
    },
    {
      "cell_type": "code",
      "source": [
        "# Dataset Described\n",
        "df.describe().T"
      ],
      "metadata": {
        "id": "PC_6P29XWrI7"
      },
      "execution_count": null,
      "outputs": []
    },
    {
      "cell_type": "code",
      "source": [
        "# Dataset Columns\n",
        "df.columns"
      ],
      "metadata": {
        "id": "C93XS8U7WVTx"
      },
      "execution_count": null,
      "outputs": []
    },
    {
      "cell_type": "markdown",
      "source": [
        "First of all we will try to understand the meaning of all columns of the dataframe. \\\n",
        "For this we will see the unique values attained by each column whose meaning we are unable to understand."
      ],
      "metadata": {
        "id": "sNZn24z3JzZk"
      }
    },
    {
      "cell_type": "code",
      "source": [
        "df['hotel'].unique()"
      ],
      "metadata": {
        "id": "GjOK3q4-J0Lt"
      },
      "execution_count": null,
      "outputs": []
    },
    {
      "cell_type": "code",
      "source": [
        "df['is_canceled'].unique()"
      ],
      "metadata": {
        "id": "Br9woitLJ5Gt"
      },
      "execution_count": null,
      "outputs": []
    },
    {
      "cell_type": "code",
      "source": [
        "df['arrival_date_year'].unique()"
      ],
      "metadata": {
        "id": "zIN9V0omKAIH"
      },
      "execution_count": null,
      "outputs": []
    },
    {
      "cell_type": "code",
      "source": [
        "df['meal'].unique()"
      ],
      "metadata": {
        "id": "34-lrRbnKCsr"
      },
      "execution_count": null,
      "outputs": []
    },
    {
      "cell_type": "code",
      "source": [
        "df['market_segment'].unique()"
      ],
      "metadata": {
        "id": "oIrX10Z4KFpu"
      },
      "execution_count": null,
      "outputs": []
    },
    {
      "cell_type": "code",
      "source": [
        "df['children'].unique()  # we can see this columns has zero as well as null "
      ],
      "metadata": {
        "id": "bSRHgAxqKJwl"
      },
      "execution_count": null,
      "outputs": []
    },
    {
      "cell_type": "markdown",
      "source": [
        "### <b> Cleaning data </b> \n",
        "\n",
        "Cleaning data is crucial step before EDA as it will remove the ambigous data that can affect the outcome of EDA.\n",
        "\n",
        "While cleaning data we will perform following steps: \\\n",
        "1) Remove duplicate rows  \\\n",
        "2) Handling missing values.  \\\n",
        "3) Convert columns to appropriate datatypes.  \\\n",
        "4) Adding impoertant columns"
      ],
      "metadata": {
        "id": "KzsxIRZCOAlT"
      }
    },
    {
      "cell_type": "markdown",
      "source": [
        "### <b> Step 1: Removing duplicate rows </b>"
      ],
      "metadata": {
        "id": "35m5QtbWiB9F"
      }
    },
    {
      "cell_type": "code",
      "source": [
        "# Dataset Duplicate Value Count\n",
        "\n",
        "len(df)-len(df.drop_duplicates())\n"
      ],
      "metadata": {
        "id": "1sLdpKYkmox0"
      },
      "execution_count": null,
      "outputs": []
    },
    {
      "cell_type": "markdown",
      "source": [
        "there are 31994 duplicate values we need remove these"
      ],
      "metadata": {
        "id": "3_8BbCz5on0l"
      }
    },
    {
      "cell_type": "code",
      "source": [
        "new_df = df.drop_duplicates(keep=False)   #dropping duplicates\n"
      ],
      "metadata": {
        "id": "iKijDqupongP"
      },
      "execution_count": null,
      "outputs": []
    },
    {
      "cell_type": "code",
      "source": [
        "new_df.shape   #after deleting the duplicates"
      ],
      "metadata": {
        "id": "LI_dxG0OpZoi"
      },
      "execution_count": null,
      "outputs": []
    },
    {
      "cell_type": "markdown",
      "source": [
        "### <b> Step2: Handling missing values. </b>"
      ],
      "metadata": {
        "id": "PoPl-ycgm1ru"
      }
    },
    {
      "cell_type": "code",
      "source": [
        "# Missing Values/Null Values Count\n",
        "new_df.isnull().sum().sort_values(ascending=False)[:5]"
      ],
      "metadata": {
        "id": "GgHWkxvamxVg"
      },
      "execution_count": null,
      "outputs": []
    },
    {
      "cell_type": "code",
      "source": [
        "# Visualizing the missing values\n",
        "new_df.isnull().sum().sort_values(ascending=False)[:4].plot.bar()\n"
      ],
      "metadata": {
        "id": "3q5wnI3om9sJ"
      },
      "execution_count": null,
      "outputs": []
    },
    {
      "cell_type": "markdown",
      "source": [
        "Since, company and agent columns have comany number and agent numbers as data. There may be some cases when customer didnt booked hotel via any agent or via any company. So in that case values can be null under these columns. \\\n",
        "We will replace null values by 0 in these columns "
      ],
      "metadata": {
        "id": "fl3JkJ8gswHy"
      }
    },
    {
      "cell_type": "code",
      "source": [
        "#filling null values with zeros \n",
        "new_df[['company','agent']] = new_df[['company','agent']].fillna(0)\n"
      ],
      "metadata": {
        "id": "hZy-Xd1AtUHM"
      },
      "execution_count": null,
      "outputs": []
    },
    {
      "cell_type": "code",
      "source": [
        "#checking unique values in children column\n",
        "new_df['children'].unique()\n"
      ],
      "metadata": {
        "id": "3c5lXlZUzhMe"
      },
      "execution_count": null,
      "outputs": []
    },
    {
      "cell_type": "markdown",
      "source": [
        "This column 'children' has 0 as value which means 0 children were present in group of customers who made that transaction. \\\n",
        "So, 'nan' values are the missing values due to error of recording data. \\\n",
        " \\\n",
        "We will replace the null values under this column with mean value of children."
      ],
      "metadata": {
        "id": "0uuS0kvP0RON"
      }
    },
    {
      "cell_type": "code",
      "source": [
        "new_df['children'].fillna(new_df['children'].mean(),inplace=True)"
      ],
      "metadata": {
        "id": "v8Qa7tYd49dH"
      },
      "execution_count": null,
      "outputs": []
    },
    {
      "cell_type": "code",
      "source": [
        "new_df['children'].unique()"
      ],
      "metadata": {
        "id": "G2KkB-7A0rJS"
      },
      "execution_count": null,
      "outputs": []
    },
    {
      "cell_type": "markdown",
      "source": [
        "Next column with missing value is 'country'.\n",
        "This column represents the country of origin of customer. \\\n",
        "Since, this column has datatype of string. We will replace the missing value with the mode of 'country' column."
      ],
      "metadata": {
        "id": "Y5lrwd8cG_78"
      }
    },
    {
      "cell_type": "code",
      "source": [
        "new_df['country'].mode()"
      ],
      "metadata": {
        "id": "LP2dUNKgIBCi"
      },
      "execution_count": null,
      "outputs": []
    },
    {
      "cell_type": "code",
      "source": [
        "# mode of country columns is PRT so we would will fill PRT \n",
        "\n",
        "new_df['country'].fillna('PRT',inplace=True) "
      ],
      "metadata": {
        "id": "k2WvhrYxHKyO"
      },
      "execution_count": null,
      "outputs": []
    },
    {
      "cell_type": "code",
      "source": [
        "# Checking if all null values are removed\n",
        "new_df.isnull().sum().sort_values(ascending = False)[:6]"
      ],
      "metadata": {
        "id": "lEDt6C2ZtkzD"
      },
      "execution_count": null,
      "outputs": []
    },
    {
      "cell_type": "markdown",
      "source": [
        "Now we have removed all null values"
      ],
      "metadata": {
        "id": "39-g6EyfNCJd"
      }
    },
    {
      "cell_type": "code",
      "source": [
        "#Now we will check is there any wrong data \n",
        "new_df[new_df['adults']+new_df['babies']+new_df['children']==0].shape"
      ],
      "metadata": {
        "id": "QXCBqrd9JCFn"
      },
      "execution_count": null,
      "outputs": []
    },
    {
      "cell_type": "markdown",
      "source": [
        "we can see above There are some rows with total number of adults, children or babies equal to zero. So we will remove such rows.\n",
        "\n"
      ],
      "metadata": {
        "id": "I3HnyB-tKE3X"
      }
    },
    {
      "cell_type": "code",
      "source": [
        "new_df.drop(new_df[new_df['adults']+new_df['babies']+new_df['children']==0].index,inplace=True) #dropping where total number guest is 0"
      ],
      "metadata": {
        "id": "fSypMlu0J_kE"
      },
      "execution_count": null,
      "outputs": []
    },
    {
      "cell_type": "markdown",
      "source": [
        "### <b> Step 3: Converting columns to appropriate datatypes. </b>"
      ],
      "metadata": {
        "id": "Or6emnehO6Mh"
      }
    },
    {
      "cell_type": "code",
      "source": [
        "df.dtypes"
      ],
      "metadata": {
        "id": "ZcOaVOY2O54Q"
      },
      "execution_count": null,
      "outputs": []
    },
    {
      "cell_type": "code",
      "source": [
        "# Converting datatype of columns 'children', 'company' and 'agent' from float to int.\n",
        "new_df[['children', 'company', 'agent']] = new_df[['children','company','agent']].astype('int64')"
      ],
      "metadata": {
        "id": "03cdqFfePbNa"
      },
      "execution_count": null,
      "outputs": []
    },
    {
      "cell_type": "code",
      "source": [
        "# changing datatype of column 'reservation_status_date' from object  to date data_type.\n",
        "new_df['reservation_status_date'] = pd.to_datetime(new_df['reservation_status_date'],format = '%Y-%m-%d')"
      ],
      "metadata": {
        "id": "C8kokYgUQ4_3"
      },
      "execution_count": null,
      "outputs": []
    },
    {
      "cell_type": "markdown",
      "source": [
        "### <b> Step 4: Adding important columns. </b>"
      ],
      "metadata": {
        "id": "MqQRa4xOUr7K"
      }
    },
    {
      "cell_type": "code",
      "source": [
        "# Adding total staying days in hotels\n",
        "new_df['total_stay'] = new_df['stays_in_weekend_nights']+new_df['stays_in_week_nights']\n"
      ],
      "metadata": {
        "id": "a2spD7NlUsyB"
      },
      "execution_count": null,
      "outputs": []
    },
    {
      "cell_type": "markdown",
      "source": [
        "We are above adding these columns so that we can analyse the stay length at hotels"
      ],
      "metadata": {
        "id": "H0tB7V2XV36t"
      }
    },
    {
      "cell_type": "code",
      "source": [
        "# Adding total people num as column, i.e. total people num = num of adults + children + babies\n",
        "new_df['total_people'] = new_df['adults']+new_df['children']+new_df['babies']"
      ],
      "metadata": {
        "id": "gg7Vb0daV2bG"
      },
      "execution_count": null,
      "outputs": []
    },
    {
      "cell_type": "markdown",
      "source": [
        "## **EDA** ##"
      ],
      "metadata": {
        "id": "KvBKP6LkXF8O"
      }
    },
    {
      "cell_type": "markdown",
      "source": [
        "##Now we will see correlation between all numerical variables."
      ],
      "metadata": {
        "id": "7DFtjq7kCx4S"
      }
    },
    {
      "cell_type": "markdown",
      "source": [
        "Since, columns like 'is_cancelled', 'arrival_date_year', 'arrival_date_week_number', 'arrival_date_day_of_month', 'is_repeated_guest', 'company', 'agent' are categorical data having numerical type. So we wont need to check them for correlation.\\\n",
        " \\"
      ],
      "metadata": {
        "id": "Ng5pXqW8DPL2"
      }
    },
    {
      "cell_type": "code",
      "source": [
        "#Taking only numerical columns \n",
        "num_df1 = new_df[['lead_time','previous_cancellations','previous_bookings_not_canceled','booking_changes','days_in_waiting_list','adr','required_car_parking_spaces','total_of_special_requests','total_stay','total_people']]\n"
      ],
      "metadata": {
        "id": "SChSLWKXXFr_"
      },
      "execution_count": null,
      "outputs": []
    },
    {
      "cell_type": "code",
      "source": [
        "#correlation matrix\n",
        "corrmat = num_df1.corr()\n",
        "f, ax = plt.subplots(figsize=(12, 7))\n",
        "sns.heatmap(corrmat,annot = True,fmt='.2f', annot_kws={'size': 10},  vmax=.8, square=True);"
      ],
      "metadata": {
        "id": "gtsTWaYZD_h0"
      },
      "execution_count": null,
      "outputs": []
    },
    {
      "cell_type": "markdown",
      "source": [
        "1) Total stay length and lead time have slight correlation. This may means that for longer hotel stays people generally plan little before the the actual arrival.\n",
        "\n",
        "2) adr is slightly correlated with total_people, which makes sense as more no. of people means more revenue, therefore more adr."
      ],
      "metadata": {
        "id": "HPg4RxnbHGY2"
      }
    },
    {
      "cell_type": "markdown",
      "source": [
        "Lets see does length of stay affects the \n",
        "adr."
      ],
      "metadata": {
        "id": "OGMvx6tIHY_p"
      }
    },
    {
      "cell_type": "code",
      "source": [
        "plt.figure(figsize = (12,6))\n",
        "sns.scatterplot(y = 'adr', x = 'total_stay', data = new_df)\n",
        "plt.show()"
      ],
      "metadata": {
        "id": "NKH2U233Hxv9"
      },
      "execution_count": null,
      "outputs": []
    },
    {
      "cell_type": "code",
      "source": [
        "#Dropping outlier \n",
        "new_df.drop(new_df[new_df['adr'] > 5000].index, inplace = True)"
      ],
      "metadata": {
        "id": "xy19hI2CiHrH"
      },
      "execution_count": null,
      "outputs": []
    },
    {
      "cell_type": "code",
      "source": [
        "plt.figure(figsize=(10,6))  \n",
        "sns.scatterplot(y='adr',x='total_stay',data=new_df)"
      ],
      "metadata": {
        "id": "uxCnHdhZiKKx"
      },
      "execution_count": null,
      "outputs": []
    },
    {
      "cell_type": "markdown",
      "source": [
        "From scatter plot we can see that as length of  tatal_stay increase the adr decreases this means for longer stay,the better deal for customer can be finalised."
      ],
      "metadata": {
        "id": "PUj8A7FZiod6"
      }
    },
    {
      "cell_type": "markdown",
      "source": [
        "# **Univariate Analysis**"
      ],
      "metadata": {
        "id": "FDfSXt0aj9fO"
      }
    },
    {
      "cell_type": "markdown",
      "source": [
        "Q1) Which agent makes most no. of bookings?"
      ],
      "metadata": {
        "id": "hJOWHrRAnYqp"
      }
    },
    {
      "cell_type": "code",
      "source": [
        "d = pd.DataFrame(new_df['agent'].value_counts()).reset_index().rename(columns = {'index':'agent','agent':'num_of_bookings'}).sort_values(by = 'num_of_bookings', ascending = False)\n",
        "d.drop(d[d['agent'] == 0].index, inplace = True)            # 0 represents that booking is not made by an agent\n",
        "d = d[:10]                                                   # Selecting top 10 performing agents\n",
        "plt.figure(figsize = (10,5))\n",
        "sns.barplot(x = 'agent', y = 'num_of_bookings', data = d, order = d.sort_values('num_of_bookings', ascending = False).agent)"
      ],
      "metadata": {
        "id": "aWLV7p6Vj7z8"
      },
      "execution_count": null,
      "outputs": []
    },
    {
      "cell_type": "markdown",
      "source": [
        "we can see agent 9 made most number of bookings"
      ],
      "metadata": {
        "id": "7nMshQPBnNX9"
      }
    },
    {
      "cell_type": "markdown",
      "source": [
        "Q2) Which room type is in most demand and which room type generates highest adr?"
      ],
      "metadata": {
        "id": "hndgI1QVneCG"
      }
    },
    {
      "cell_type": "code",
      "source": [
        "fig, axes = plt.subplots(1, 2, figsize=(20,10)) \n",
        "\n",
        "sns.countplot(ax = axes[0], x = new_df['assigned_room_type'])\n",
        "sns.boxplot(ax = axes[1], x = new_df['assigned_room_type'], y = new_df['adr'])\n",
        "plt.show()\n"
      ],
      "metadata": {
        "id": "ESuDjiZezPWW"
      },
      "execution_count": null,
      "outputs": []
    },
    {
      "cell_type": "markdown",
      "source": [
        "Most demanded room type is A, but better adr rooms are of type H, G and C also. Hotels should increase the no. of room types A and H to maximise revenue."
      ],
      "metadata": {
        "id": "BYHiEOMo0N2h"
      }
    },
    {
      "cell_type": "markdown",
      "source": [
        "Q3) Which meal type is most preffered "
      ],
      "metadata": {
        "id": "LlvgEOpL0osX"
      }
    },
    {
      "cell_type": "code",
      "source": [
        "plt.figure(figsize=(12,8))   # set size of the figure\n",
        "sns.countplot(x=new_df['meal'])"
      ],
      "metadata": {
        "id": "ck4JslsX0pUw"
      },
      "execution_count": null,
      "outputs": []
    },
    {
      "cell_type": "markdown",
      "source": [
        "Most preferred meal type is BB (Bed and breakfast)."
      ],
      "metadata": {
        "id": "2CcoE8henawI"
      }
    },
    {
      "cell_type": "markdown",
      "source": [
        "## <b> (1) Hotel wise analysis </b>"
      ],
      "metadata": {
        "id": "0pkrSUXgnf5u"
      }
    },
    {
      "cell_type": "markdown",
      "source": [
        "Q1) What is percentage of bookings in each hotel?"
      ],
      "metadata": {
        "id": "qe24qOXXnkb3"
      }
    },
    {
      "cell_type": "code",
      "source": [
        "grouped_by_hotel = new_df.groupby('hotel')\n",
        "d = pd.DataFrame((grouped_by_hotel.size()/new_df.shape[0])*100).reset_index().rename(columns = {0:'Booking %'})      #Calculating percentage\n",
        "plt.figure(figsize = (8,5))\n",
        "sns.barplot(x = d['hotel'], y = d['Booking %'] )\n",
        "plt.show()"
      ],
      "metadata": {
        "id": "tR6-KvyBngmj"
      },
      "execution_count": null,
      "outputs": []
    },
    {
      "cell_type": "markdown",
      "source": [
        "\n",
        "Around 60% bookings are for City hotel and 40% bookings are for Resort hotel."
      ],
      "metadata": {
        "id": "SbX3cWt6n35P"
      }
    },
    {
      "cell_type": "markdown",
      "source": [
        "Q2) which hotel seems to make more revenue?"
      ],
      "metadata": {
        "id": "onMxImsooBGv"
      }
    },
    {
      "cell_type": "code",
      "source": [
        "d1 = grouped_by_hotel['adr'].agg(np.mean).reset_index().rename(columns = {'adr':'avg_adr'})   # calculating average adr\n",
        "plt.figure(figsize = (8,5))\n",
        "sns.barplot(x = d1['hotel'], y = d1['avg_adr'] )"
      ],
      "metadata": {
        "id": "fFeUjeNTn8yf"
      },
      "execution_count": null,
      "outputs": []
    },
    {
      "cell_type": "markdown",
      "source": [
        "Avg adr of Resort hotel is slightly lower than that of City hotel. Hence, City hotel seems to be making slightly more revenue."
      ],
      "metadata": {
        "id": "dKKaf5rboR19"
      }
    },
    {
      "cell_type": "markdown",
      "source": [
        "Q3) Which hotel has higher lead time?"
      ],
      "metadata": {
        "id": "MIrTSKJwoWl5"
      }
    },
    {
      "cell_type": "code",
      "source": [
        "d2 = grouped_by_hotel['lead_time'].median().reset_index().rename(columns = {'lead_time':'median_lead_time'})\n",
        "plt.figure(figsize = (8,5))\n",
        "sns.barplot(x = d2['hotel'], y = d2['median_lead_time'] )"
      ],
      "metadata": {
        "id": "VPPVzXQfoSo-"
      },
      "execution_count": null,
      "outputs": []
    },
    {
      "cell_type": "markdown",
      "source": [
        "City hotel has slightly higher median lead time. Also median lead time is significantly higher in each case, this means customers generally plan their hotel visits way to early."
      ],
      "metadata": {
        "id": "F3t_JXv6opHK"
      }
    },
    {
      "cell_type": "markdown",
      "source": [
        "Q4) What is preferred stay length in \n",
        "each hotel?"
      ],
      "metadata": {
        "id": "pSEg-pyvouT8"
      }
    },
    {
      "cell_type": "code",
      "source": [
        "not_canceled = new_df[new_df['is_canceled'] == 0]\n",
        "s1 = not_canceled[not_canceled['total_stay'] < 15]\n",
        "plt.figure(figsize = (10,5))\n",
        "sns.countplot(x = s1['total_stay'], hue = s1['hotel'])"
      ],
      "metadata": {
        "id": "5QVyiw8aop5-"
      },
      "execution_count": null,
      "outputs": []
    },
    {
      "cell_type": "markdown",
      "source": [
        "Most common stay length is less than 4 days and generally people prefer City hotel for short stay, but for long stays, Resort Hotel is preferred."
      ],
      "metadata": {
        "id": "SCH98XWUpU30"
      }
    },
    {
      "cell_type": "markdown",
      "source": [
        "Q5) Which hotel has longer waiting time?"
      ],
      "metadata": {
        "id": "8kdRP51Tpal1"
      }
    },
    {
      "cell_type": "code",
      "source": [
        "d3 = pd.DataFrame(grouped_by_hotel['days_in_waiting_list'].agg(np.mean).reset_index().rename(columns = {'days_in_waiting_list':'avg_waiting_period'}))\n",
        "plt.figure(figsize = (8,5))\n",
        "sns.barplot(x = d3['hotel'], y = d3['avg_waiting_period'] )"
      ],
      "metadata": {
        "id": "F8UCivvrpNed"
      },
      "execution_count": null,
      "outputs": []
    },
    {
      "cell_type": "markdown",
      "source": [
        "**City** hotel has significantly longer waiting time, hence City Hotel is much busier than Resort Hotel."
      ],
      "metadata": {
        "id": "bGokMrxPprh3"
      }
    },
    {
      "cell_type": "markdown",
      "source": [
        "Q6) Which hotel has higher bookings cancellation rate."
      ],
      "metadata": {
        "id": "P236pzKopxn5"
      }
    },
    {
      "cell_type": "code",
      "source": [
        "# Selecting and counting number of cancelled bookings for each hotel.\n",
        "cancelled_data = new_df[new_df['is_canceled'] == 1]\n",
        "cancel_grp = cancelled_data.groupby('hotel')\n",
        "D1 = pd.DataFrame(cancel_grp.size()).rename(columns = {0:'total_cancelled_bookings'})\n",
        "\n",
        "# Counting total number of bookings for each type of hotel\n",
        "grouped_by_hotel = new_df.groupby('hotel')\n",
        "total_booking = grouped_by_hotel.size()\n",
        "D2 = pd.DataFrame(total_booking).rename(columns = {0: 'total_bookings'})\n",
        "D3 = pd.concat([D1,D2], axis = 1)\n",
        "\n",
        "# Calculating cancel percentage \n",
        "D3['cancel_%'] = round((D3['total_cancelled_bookings']/D3['total_bookings'])*100,2)\n",
        "D3"
      ],
      "metadata": {
        "id": "_XbPIiFnpuS7"
      },
      "execution_count": null,
      "outputs": []
    },
    {
      "cell_type": "code",
      "source": [
        "plt.figure(figsize = (10,5))  #Setting Size the figure\n",
        "sns.barplot(x = D3.index, y = D3['cancel_%'])"
      ],
      "metadata": {
        "id": "jFwdXey6qX7h"
      },
      "execution_count": null,
      "outputs": []
    },
    {
      "cell_type": "markdown",
      "source": [
        "we can see city hotel high cancelleation becouse city hotel has almost 28% booking cancellation\n",
        "and Resort has 22% boooking cancellation"
      ],
      "metadata": {
        "id": "vHrIyqhPqpf6"
      }
    },
    {
      "cell_type": "markdown",
      "source": [
        "Q7) Which hotel has high chance that its customer will return for another stay?"
      ],
      "metadata": {
        "id": "USPzPuSQrTsd"
      }
    },
    {
      "cell_type": "code",
      "source": [
        "#Selecting and counting repeated customers bookings\n",
        "repeated_data = new_df[new_df['is_repeated_guest']==1]\n",
        "repeat_grp = repeated_data.groupby('hotel')\n",
        "D2 = pd.DataFrame(repeat_grp.size()).rename(columns={0:'total_repeated_guests'})\n",
        "\n",
        "#Counting total bookings\n",
        "total_booking = grouped_by_hotel.size()\n",
        "D3 = pd.DataFrame(total_booking).rename(columns= {0:'total_bookings'})\n",
        "D4 = pd.concat([D2,D3],axis=1)\n",
        "\n",
        "#Calculating repeat %\n",
        "D4['repeat_%'] = round((D4['total_repeated_guests']/D4['total_bookings'])*100,2)\n",
        "D4 = D4.reset_index()\n",
        "D4"
      ],
      "metadata": {
        "id": "V4FHbod6rIcv"
      },
      "execution_count": null,
      "outputs": []
    },
    {
      "cell_type": "code",
      "source": [
        "plt.figure(figsize = (10,5))\n",
        "sns.barplot(x = D4['hotel'], y = D4['repeat_%'])"
      ],
      "metadata": {
        "id": "POfH6qKkvDQo"
      },
      "execution_count": null,
      "outputs": []
    },
    {
      "cell_type": "markdown",
      "source": [
        "Both hotels have very small percentage that customer will repeat, but Resort hotel has slightly higher repeat % than City Hotel."
      ],
      "metadata": {
        "id": "ib9buFyVvPtr"
      }
    },
    {
      "cell_type": "markdown",
      "source": [
        "## <b> (2) Distribution Channel wiseAnalysis </b>\n",
        "\n"
      ],
      "metadata": {
        "id": "YB1NhrG8viBc"
      }
    },
    {
      "cell_type": "markdown",
      "source": [
        "Q1) Which is the most common channel for \n",
        "booking hotels?"
      ],
      "metadata": {
        "id": "gyPNxItq1xq6"
      }
    },
    {
      "cell_type": "code",
      "source": [
        "grouped_by_dist_ch = new_df.groupby('distribution_channel') \n",
        "#calculating percentage \n",
        "d = pd.DataFrame(round((grouped_by_dist_ch.size()/new_df.shape[0])*100,2)).reset_index().rename(columns={0:'Booking_%'})\n",
        "plt.figure(figsize = (8,8)) #set size of figure\n",
        "data = d['Booking_%']\n",
        "label = d['distribution_channel']\n",
        "plt.pie(x=data,autopct=\"%.2f%%\",explode=[0.05]*5,labels=label,pctdistance=0.3)\n",
        "plt.title(\"Booking % by distribution channels\", fontsize=14);\n"
      ],
      "metadata": {
        "id": "oCCVlKdvvn3k"
      },
      "execution_count": null,
      "outputs": []
    },
    {
      "cell_type": "markdown",
      "source": [
        "Q2) Which channel is mostly used for early booking of hotels?"
      ],
      "metadata": {
        "id": "RqQJxy8J1Q87"
      }
    },
    {
      "cell_type": "code",
      "source": [
        "d1 = pd.DataFrame(round(grouped_by_dist_ch['lead_time'].median(),2)).reset_index().rename(columns={'lead_time':'median_lead_time'})\n",
        "plt.figure(figsize=(7,5))\n",
        "sns.barplot(x=d1['distribution_channel'],y=d1['median_lead_time'])"
      ],
      "metadata": {
        "id": "6aWcHr9X1zEp"
      },
      "execution_count": null,
      "outputs": []
    },
    {
      "cell_type": "markdown",
      "source": [
        "TA(Travel Agency)/TO is mostly used for planning Hotel visits ahead of time. But for sudden visits other mediums are most preferred."
      ],
      "metadata": {
        "id": "s28lpmU6XQa9"
      }
    },
    {
      "cell_type": "markdown",
      "source": [
        "Q3) Which channel has longer average \n",
        "waiting time?"
      ],
      "metadata": {
        "id": "59HiknzOg47a"
      }
    },
    {
      "cell_type": "code",
      "source": [
        "d2 = pd.DataFrame(round((grouped_by_dist_ch['days_in_waiting_list']).mean(),2)).reset_index().rename(columns={'days_in_waiting_list':'avg_waiting_time'})\n",
        "plt.figure(figsize = (7,5))\n",
        "sns.barplot(x=d2['distribution_channel'],y=d2['avg_waiting_time'])"
      ],
      "metadata": {
        "id": "GzK8s8y0XRF2"
      },
      "execution_count": null,
      "outputs": []
    },
    {
      "cell_type": "markdown",
      "source": [
        "While booking via TA/TO one may have to wait a little longer to confirm booking of rooms."
      ],
      "metadata": {
        "id": "acCt3JETi9VW"
      }
    },
    {
      "cell_type": "markdown",
      "source": [
        "Q4) Which distribution channel brings better revenue generating deals for hotels?"
      ],
      "metadata": {
        "id": "g4x9X3UzjFoq"
      }
    },
    {
      "cell_type": "code",
      "source": [
        "group_by_dc_hotel = new_df.groupby(['distribution_channel', 'hotel'])\n",
        "d5 = pd.DataFrame(round((group_by_dc_hotel['adr']).agg(np.mean),2)).reset_index().rename(columns = {'adr': 'avg_adr'})\n",
        "plt.figure(figsize = (7,5))\n",
        "sns.barplot(x = d5['distribution_channel'], y = d5['avg_adr'], hue = d5['hotel'])\n",
        "plt.ylim(40,140)\n",
        "plt.show()"
      ],
      "metadata": {
        "id": "jOmFhYZphjUS"
      },
      "execution_count": null,
      "outputs": []
    },
    {
      "cell_type": "markdown",
      "source": [
        "GDS channel brings higher revenue generating deals for City hotel, in contrast to that most bookings come via TA/TO. City Hotel can work to increase outreach on GDS channels to get more higher revenue generating deals.\n",
        "\n",
        "Resort hotel has more revnue generating deals by direct and TA/TO channel. Resort Hotel need to increase outreach on GDS channel to increase revenue."
      ],
      "metadata": {
        "id": "BPxnI1qyki9P"
      }
    },
    {
      "cell_type": "markdown",
      "source": [
        "## <b> (3) Booking cancellation Analysis </b>"
      ],
      "metadata": {
        "id": "w2h9izMJkpmu"
      }
    },
    {
      "cell_type": "markdown",
      "source": [
        "Let us try to understand what causes the people to cancel the booking."
      ],
      "metadata": {
        "id": "mvAL9bm4kv1k"
      }
    },
    {
      "cell_type": "markdown",
      "source": [
        "Q1) Which significant distribution channel has highest cancellation percentage?"
      ],
      "metadata": {
        "id": "p7C2-S3nk1L9"
      }
    },
    {
      "cell_type": "code",
      "source": [
        "\n",
        "d = pd.DataFrame((grouped_by_dist_ch['is_canceled'].sum()/grouped_by_dist_ch.size())*100).drop(index='Undefined').rename(columns={0:'Cancel_%'}) #calculating percentage \n",
        "plt.figure(figsize = (10,5))\n",
        "d = d.reset_index()\n",
        "sns.barplot(x=d['distribution_channel'],y=d['Cancel_%'])"
      ],
      "metadata": {
        "id": "iLWoU9U5i6qd"
      },
      "execution_count": null,
      "outputs": []
    },
    {
      "cell_type": "markdown",
      "source": [
        "TA/TO has highest booking cancellation %. Therefore, a booking via TA/TO is 30% likely to get cancelled."
      ],
      "metadata": {
        "id": "CrEKLLqoUPrH"
      }
    },
    {
      "cell_type": "markdown",
      "source": [
        "Let us see what causes the cancelation of bookings of rooms by customers \\\n",
        " \\\n",
        " One question can arise that may be longer waiting period or longer lead time causes the cancellation of bookings, let us check that."
      ],
      "metadata": {
        "id": "llX6QrHZUt1H"
      }
    },
    {
      "cell_type": "code",
      "source": [
        "waiting_bookings = new_df[new_df['days_in_waiting_list']!=0]  #Selecting Booking with non zero waiting\n",
        "fig, axes = plt.subplots(1, 2, figsize=(18, 8))\n",
        "sns.kdeplot(ax=axes[0],x='days_in_waiting_list',hue='is_canceled',data=waiting_bookings)\n",
        "sns.kdeplot(ax=axes[1], x=new_df['lead_time'],hue=new_df['is_canceled'])"
      ],
      "metadata": {
        "id": "YanYqp7Gvpac"
      },
      "execution_count": null,
      "outputs": []
    },
    {
      "cell_type": "markdown",
      "source": [
        "We see that most of the bookings that are cancelled have waiting period of less 150 days but also most of bookings that are not cancelled also have waiting period less than 150 days. Hence this shows that waiting period has no effect on cancellation of bookings. \\\n",
        "\\\n",
        "Also, lead time has no affect on cancellation of bookings, as both curves of cancelation and not cncelation are similar for lead time too."
      ],
      "metadata": {
        "id": "iIEmxpPbXtyw"
      }
    },
    {
      "cell_type": "markdown",
      "source": [
        "Now we will check whether not getting allotted the same room type as demanded is the cause of cancellation fo bookings"
      ],
      "metadata": {
        "id": "i27poYfMXxYV"
      }
    },
    {
      "cell_type": "code",
      "source": [
        "#creating a function to check same same allot or not \n",
        "def check_room_alloted(x):\n",
        "  if x['reserved_room_type'] != x['assigned_room_type']:\n",
        "    return 1\n",
        "  else:\n",
        "    return 0\n",
        "    "
      ],
      "metadata": {
        "id": "bIuHElGoXuiS"
      },
      "execution_count": null,
      "outputs": []
    },
    {
      "cell_type": "code",
      "source": [
        "new_df['same_room_not_alloted'] = new_df.apply(lambda x:check_room_alloted(x),axis=1)\n",
        "group_by_cn = new_df.groupby('is_canceled')\n",
        "D6 = pd.DataFrame((group_by_cn['same_room_not_alloted'].sum()/group_by_cn.size())*100).rename(columns = {0: 'same_room_not_alloted_%'})\n",
        "plt.figure(figsize=(10,7))\n",
        "sns.barplot(x = D6.index, y = D6['same_room_not_alloted_%'])\n",
        "plt.show()"
      ],
      "metadata": {
        "id": "gmMZXMw_Z7fD"
      },
      "execution_count": null,
      "outputs": []
    },
    {
      "cell_type": "code",
      "source": [
        "plt.figure(figsize = (12,6))\n",
        "sns.boxplot(x = 'same_room_not_alloted', y = 'adr', data = new_df)\n",
        "plt.show()"
      ],
      "metadata": {
        "id": "MYjiswSh2rMC"
      },
      "execution_count": null,
      "outputs": []
    },
    {
      "cell_type": "markdown",
      "source": [
        "So not getting same room do affects the adr, people who didn't got same room have paid a little lower adr, except for few exceptions."
      ],
      "metadata": {
        "id": "DyNGrbnpxk3Y"
      }
    },
    {
      "cell_type": "markdown",
      "source": [
        "## <b> (4) Time wise analysis </b>"
      ],
      "metadata": {
        "id": "F5UnVsCNxcH8"
      }
    },
    {
      "cell_type": "markdown",
      "source": [
        "(1). In which month most number of  guests are coming ?"
      ],
      "metadata": {
        "id": "irUseY7P2e__"
      }
    },
    {
      "cell_type": "code",
      "source": [
        "#checking values count in each month\n",
        "new_df['arrival_date_month'].value_counts()"
      ],
      "metadata": {
        "id": "3uXeWPGuzQU7"
      },
      "execution_count": null,
      "outputs": []
    },
    {
      "cell_type": "code",
      "source": [
        "#plotting the the countplot\n",
        "plt.figure(figsize=(16,10))\n",
        "sns.countplot(x=new_df['arrival_date_month'],hue=new_df['hotel'],order = new_df['arrival_date_month'].value_counts().index)"
      ],
      "metadata": {
        "id": "8-d1AVGp1Sxc"
      },
      "execution_count": null,
      "outputs": []
    },
    {
      "cell_type": "markdown",
      "source": [
        "Most number of guests are coming in august for both city and resort hotel"
      ],
      "metadata": {
        "id": "rULUA5dG2Qum"
      }
    },
    {
      "cell_type": "markdown",
      "source": [
        "(2). Which month is producing highest adr."
      ],
      "metadata": {
        "id": "tIoNi7ZO3fEB"
      }
    },
    {
      "cell_type": "code",
      "source": [
        "reindex = ['January', 'February','March','April','May','June','July','August','September','October','November','December']\n",
        "new_df['arrival_date_month'] = pd.Categorical(new_df['arrival_date_month'],categories=reindex,ordered=True)\n",
        "plt.figure(figsize = (15,8))\n",
        "sns.boxplot(x = new_df['arrival_date_month'],y = new_df['adr'])\n",
        "plt.show()"
      ],
      "metadata": {
        "id": "V30TpQn63mtS"
      },
      "execution_count": null,
      "outputs": []
    },
    {
      "cell_type": "markdown",
      "source": [
        "Avg adr rises from beginning of year upto middle of year and reaches peak at August and then lowers to the end of year. But hotels do make some good deals with high adr at end of year also."
      ],
      "metadata": {
        "id": "ybYoVSd97oh7"
      }
    },
    {
      "cell_type": "markdown",
      "source": [
        "(3). check the trend of arrival_num and avg adr within a month."
      ],
      "metadata": {
        "id": "neNwU6L1Dj_r"
      }
    },
    {
      "cell_type": "code",
      "source": [
        "arr_df = pd.DataFrame(not_canceled.groupby('arrival_date_day_of_month').size()).rename(columns={0:'Arrival_num'})\n",
        "arr_df['avg_adr'] = not_canceled.groupby('arrival_date_day_of_month')['adr'].agg(np.mean)"
      ],
      "metadata": {
        "id": "OHrzsX5W7pfS"
      },
      "execution_count": null,
      "outputs": []
    },
    {
      "cell_type": "code",
      "source": [
        "fig ,axes = plt.subplots(1,2,figsize=(18,9))\n",
        "g = sns.lineplot(ax=axes[0],x=arr_df.index,y=arr_df['Arrival_num'])\n",
        "g.grid()\n",
        "g.set_xticks([1,7,14,21,28,31])\n",
        "g.set_xticklabels([1,7,14,21,28,31])\n",
        "\n",
        "#plotting avg adr for each day of month\n",
        "h = sns.lineplot(ax=axes[1],x=arr_df.index,y= arr_df['avg_adr'])\n",
        "h.grid()\n",
        "g.set_xticks([1,7,14,21,28,31])\n",
        "g.set_xticklabels([1,7,14,21,28,31])"
      ],
      "metadata": {
        "id": "mXJNk5K_DLi8"
      },
      "execution_count": null,
      "outputs": []
    },
    {
      "cell_type": "markdown",
      "source": [
        "We can see that graph Arrival_num has small peaks at regular interval of days. This can be due to increase in arrival weekend.\\\n",
        "\\\n",
        "Also the avg adr tends to go up as month ends. Therefore charge more at the end of month."
      ],
      "metadata": {
        "id": "Haf6poFNECDJ"
      }
    },
    {
      "cell_type": "markdown",
      "source": [
        "Let us divide our customers in three categories of single, couple and family/friends. then check their booking %"
      ],
      "metadata": {
        "id": "MC7fqeLNEUiM"
      }
    },
    {
      "cell_type": "code",
      "source": [
        "single = not_canceled[(not_canceled['adults']==1) & (not_canceled['children']==0) & (not_canceled['babies']==0)]\n",
        "couple = not_canceled[(not_canceled['adults']==2) & (not_canceled['children']==0) & (not_canceled['babies']==0)]\n",
        "family = not_canceled[(not_canceled['adults']==1) + (not_canceled['children']==0) + (not_canceled['babies'] >2)]\n",
        "\n",
        "reindex = ['January', 'February','March','April','May','June','July','August','September','October','November','December']\n",
        "fig, ax = plt.subplots(figsize=(12, 8))\n",
        "for type in ['single','couple','family']:\n",
        "  d1 = eval(type).groupby(['arrival_date_month']).size().reset_index().rename(columns = {0:'arrival_num'})\n",
        "  d1['arrival_date_month'] = pd.Categorical(d1['arrival_date_month'],categories=reindex,ordered=True)\n",
        "  sns.lineplot(data=d1,x='arrival_date_month',y='arrival_num',label=type,ax=ax)\n",
        "\n",
        "\n",
        "plt.grid()"
      ],
      "metadata": {
        "id": "Vql3scd9DcVS"
      },
      "execution_count": null,
      "outputs": []
    },
    {
      "cell_type": "markdown",
      "source": [
        "It is clear from graph that their is a sudden surge in arrival num of couples and family in months of July and August. So better plans can be planned accordingly at that time for these type of customers."
      ],
      "metadata": {
        "id": "QWCRbjS4EvfH"
      }
    },
    {
      "cell_type": "markdown",
      "source": [
        "## <b> (5) Region Wise Analysis </b>\n"
      ],
      "metadata": {
        "id": "3sRgw4RwGOYU"
      }
    },
    {
      "cell_type": "markdown",
      "source": [
        "(1). From where the most guests are coming ?"
      ],
      "metadata": {
        "id": "vf5tqcydG3bJ"
      }
    },
    {
      "cell_type": "code",
      "source": [
        "#taking all those country with values count where cancellation is not made\n",
        "country_wise_guests = new_df[new_df['is_canceled']==0]['country'].value_counts().reset_index().rename(columns={'index':'country','country':'No_of_guests'})\n",
        "country_wise_guests"
      ],
      "metadata": {
        "id": "pp5nWvnJGIku"
      },
      "execution_count": null,
      "outputs": []
    },
    {
      "cell_type": "code",
      "source": [
        "plt.figure(figsize=(10,6))\n",
        "grouped_by_country = new_df.groupby('country')\n",
        "#taking top 10 countries with highest number guests\n",
        "d1 = pd.DataFrame(grouped_by_country.size()).reset_index().rename(columns={0:'Count'}).sort_values('Count',ascending=False)[:10]\n",
        "sns.barplot(x = d1['country'], y  = d1['Count'])"
      ],
      "metadata": {
        "id": "Hm6X9-plHEwy"
      },
      "execution_count": null,
      "outputs": []
    },
    {
      "cell_type": "markdown",
      "source": [
        "Most guest are from Portugal and other Europian contries."
      ],
      "metadata": {
        "id": "6eYxW780IT-m"
      }
    },
    {
      "cell_type": "markdown",
      "source": [
        "# **Conclusion**"
      ],
      "metadata": {
        "id": "tw1cliCOMRMh"
      }
    },
    {
      "cell_type": "markdown",
      "source": [
        "(1). Around 60% bookings are for City hotel and 40% bookings are for Resort hotel, therefore City Hotel is busier \n",
        "than Resort hotel. Also the overall adr of City hotel is slightly higher than Resort hotel.\n",
        "\n",
        "(2). Mostly guests stay for less than 5 days in hotel and for longer stays Resort hotel is preferred\n",
        "\n",
        "(3).Both hotels have significantly higher booking cancellation rates and very few guests less than 3 % return for \n",
        "\n",
        "another booking in City hotel. 5% guests return for stay in Resort hotel.\n",
        "(4). Most of the guests came from european countries, with most no. of guest coming from Portugal.\n",
        "\n",
        "(5). Guests use different channels for making bookings out of which most preferred way is TA/TO\n",
        "\n",
        "(6). For hotels higher adr deals come via GDS channel, so hotels should increase their popularity on this channel.\n",
        "\n",
        "(7).Within a month, adr gradually increases as month ends, with small sudden rise on weekends.\n",
        "\n",
        "(8). Almost 30% of bookings via TA/TO are cancelled.\n",
        "\n",
        "(9)July- August are the most busier and profitable months for both of hotels.\n",
        "\n",
        "(10). Within a month, adr gradually increases as month ends, with small sudden rise on weekends.\n",
        "\n",
        "(11).For customers, generally the longer stays (more than 15 days) can result in better deals in terms of low adr.\n",
        "\n"
      ],
      "metadata": {
        "id": "JlTJPjD4PJOq"
      }
    }
  ]
}